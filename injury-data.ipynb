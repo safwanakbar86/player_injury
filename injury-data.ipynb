{
 "cells": [
  {
   "cell_type": "code",
   "execution_count": 1,
   "metadata": {},
   "outputs": [],
   "source": [
    "import pandas as pd\n",
    "import matplotlib.pyplot as plt\n",
    "import numpy as np"
   ]
  },
  {
   "cell_type": "code",
   "execution_count": 3,
   "metadata": {},
   "outputs": [
    {
     "name": "stdout",
     "output_type": "stream",
     "text": [
      "   Player_Age  Player_Weight  Player_Height  Previous_Injuries  \\\n",
      "0          24      66.251933     175.732429                  1   \n",
      "1          37      70.996271     174.581650                  0   \n",
      "2          32      80.093781     186.329618                  0   \n",
      "3          28      87.473271     175.504240                  1   \n",
      "4          25      84.659220     190.175012                  0   \n",
      "5          38      75.820549     206.631824                  1   \n",
      "6          24      70.126050     177.044588                  0   \n",
      "7          36      79.038206     181.523155                  1   \n",
      "8          28      64.086096     183.794821                  1   \n",
      "9          28      66.829986     198.115048                  1   \n",
      "\n",
      "   Training_Intensity  Recovery_Time  Likelihood_of_Injury  \n",
      "0            0.457929              5                     0  \n",
      "1            0.226522              6                     1  \n",
      "2            0.613970              2                     1  \n",
      "3            0.252858              4                     1  \n",
      "4            0.577632              1                     1  \n",
      "5            0.359209              4                     0  \n",
      "6            0.823552              2                     0  \n",
      "7            0.820696              3                     1  \n",
      "8            0.477350              1                     1  \n",
      "9            0.350819              1                     0  \n"
     ]
    }
   ],
   "source": [
    "injury_data = pd.read_csv('injury_data.csv')\n",
    "print(injury_data.head(10))"
   ]
  }
 ],
 "metadata": {
  "kernelspec": {
   "display_name": "Python 3",
   "language": "python",
   "name": "python3"
  },
  "language_info": {
   "codemirror_mode": {
    "name": "ipython",
    "version": 3
   },
   "file_extension": ".py",
   "mimetype": "text/x-python",
   "name": "python",
   "nbconvert_exporter": "python",
   "pygments_lexer": "ipython3",
   "version": "3.12.2"
  }
 },
 "nbformat": 4,
 "nbformat_minor": 2
}
