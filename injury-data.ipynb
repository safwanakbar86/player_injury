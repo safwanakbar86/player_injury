{
 "cells": [
  {
   "cell_type": "markdown",
   "metadata": {},
   "source": [
    "## Player Injury Dataset\n",
    "\n",
    "The dataset consists of information regarding injuries of cricket players. It is available on [Kaggle](https://www.kaggle.com/) and includes seven columns.\n",
    "\n",
    "* Player_Age has integer values representing age of a player\n",
    "* Player_Weight and Player_Height have float values representing respective categories\n",
    "* Previous_Injuries is a categorical (boolean) feature which specifies whether a player has been injured or not\n",
    "* Training_Intensity is a float value between 0 and 1 identifying severity of a player's training\n",
    "* Recovery_Time is an integer value between 1 to 6 specifying number of days for a player's recovery\n",
    "* Likelihood_of_Injury is a categorical (boolean) value representing likelihood of a player's injury"
   ]
  },
  {
   "cell_type": "code",
   "execution_count": 1,
   "metadata": {},
   "outputs": [],
   "source": [
    "import pandas as pd\n",
    "import matplotlib.pyplot as plt\n",
    "import numpy as np"
   ]
  }
 ],
 "metadata": {
  "kernelspec": {
   "display_name": "Python 3",
   "language": "python",
   "name": "python3"
  },
  "language_info": {
   "codemirror_mode": {
    "name": "ipython",
    "version": 3
   },
   "file_extension": ".py",
   "mimetype": "text/x-python",
   "name": "python",
   "nbconvert_exporter": "python",
   "pygments_lexer": "ipython3",
   "version": "3.12.2"
  }
 },
 "nbformat": 4,
 "nbformat_minor": 2
}
