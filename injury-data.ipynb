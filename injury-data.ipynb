{
 "cells": [
  {
   "cell_type": "markdown",
   "metadata": {},
   "source": [
    "## Player Injury Dataset\n",
    "\n",
    "The dataset consists of information regarding injuries of cricket players. It is available on [Kaggle](https://www.kaggle.com/) and includes seven columns.\n",
    "\n",
    "* Player_Age has integer values representing age of a player\n",
    "* Player_Weight and Player_Height have float values representing respective categories\n",
    "* Previous_Injuries is a categorical (boolean) feature which specifies whether a player has been injured or not\n",
    "* Training_Intensity is a float value between 0 and 1 identifying severity of a player's training\n",
    "* Recovery_Time is an integer value between 1 to 6 specifying number of days for a player's recovery\n",
    "* Likelihood_of_Injury is a categorical (boolean) value representing likelihood of a player's injury"
   ]
  },
  {
   "cell_type": "code",
   "execution_count": 2,
   "metadata": {},
   "outputs": [],
   "source": [
    "import pandas as pd\n",
    "import matplotlib.pyplot as plt\n",
    "import numpy as np"
   ]
  },
  {
   "cell_type": "code",
   "execution_count": 4,
   "metadata": {},
   "outputs": [
    {
     "name": "stdout",
     "output_type": "stream",
     "text": [
      "   Player_Age  Player_Weight  Player_Height  Previous_Injuries  \\\n",
      "0          24      66.251933     175.732429                  1   \n",
      "1          37      70.996271     174.581650                  0   \n",
      "2          32      80.093781     186.329618                  0   \n",
      "3          28      87.473271     175.504240                  1   \n",
      "4          25      84.659220     190.175012                  0   \n",
      "5          38      75.820549     206.631824                  1   \n",
      "6          24      70.126050     177.044588                  0   \n",
      "7          36      79.038206     181.523155                  1   \n",
      "8          28      64.086096     183.794821                  1   \n",
      "9          28      66.829986     198.115048                  1   \n",
      "\n",
      "   Training_Intensity  Recovery_Time  Likelihood_of_Injury  \n",
      "0            0.457929              5                     0  \n",
      "1            0.226522              6                     1  \n",
      "2            0.613970              2                     1  \n",
      "3            0.252858              4                     1  \n",
      "4            0.577632              1                     1  \n",
      "5            0.359209              4                     0  \n",
      "6            0.823552              2                     0  \n",
      "7            0.820696              3                     1  \n",
      "8            0.477350              1                     1  \n",
      "9            0.350819              1                     0  \n"
     ]
    }
   ],
   "source": [
    "injury_data = pd.read_csv('https://github.com/safwanakbar86/data_science_2/blob/main/injury_data.csv')\n",
    "print(injury_data.head(10))"
   ]
  },
  {
   "cell_type": "code",
   "execution_count": 9,
   "metadata": {},
   "outputs": [
    {
     "name": "stdout",
     "output_type": "stream",
     "text": [
      "Rows of the dataset:  1000 \n",
      "\n",
      "<class 'pandas.core.frame.DataFrame'>\n",
      "RangeIndex: 1000 entries, 0 to 999\n",
      "Data columns (total 7 columns):\n",
      " #   Column                Non-Null Count  Dtype  \n",
      "---  ------                --------------  -----  \n",
      " 0   Player_Age            1000 non-null   int64  \n",
      " 1   Player_Weight         1000 non-null   float64\n",
      " 2   Player_Height         1000 non-null   float64\n",
      " 3   Previous_Injuries     1000 non-null   int64  \n",
      " 4   Training_Intensity    1000 non-null   float64\n",
      " 5   Recovery_Time         1000 non-null   int64  \n",
      " 6   Likelihood_of_Injury  1000 non-null   int64  \n",
      "dtypes: float64(3), int64(4)\n",
      "memory usage: 54.8 KB\n",
      "None \n",
      "\n",
      "Player_Age              1000\n",
      "Player_Weight           1000\n",
      "Player_Height           1000\n",
      "Previous_Injuries       1000\n",
      "Training_Intensity      1000\n",
      "Recovery_Time           1000\n",
      "Likelihood_of_Injury    1000\n",
      "dtype: int64\n"
     ]
    }
   ],
   "source": [
    "print(\"Rows of the dataset: \", len(injury_data), \"\\n\")\n",
    "print(injury_data.info(), \"\\n\")\n",
    "print(injury_data.count())"
   ]
  },
  {
   "cell_type": "markdown",
   "metadata": {},
   "source": [
    "### The code above shows that there are no missing values in the dataset"
   ]
  },
  {
   "cell_type": "code",
   "execution_count": 8,
   "metadata": {},
   "outputs": [
    {
     "name": "stdout",
     "output_type": "stream",
     "text": [
      "        Player_Age  Player_Weight  Player_Height  Previous_Injuries  \\\n",
      "count  1000.000000    1000.000000    1000.000000        1000.000000   \n",
      "mean     28.231000      74.794351     179.750948           0.515000   \n",
      "std       6.538378       9.892621       9.888921           0.500025   \n",
      "min      18.000000      40.191912     145.285701           0.000000   \n",
      "25%      22.000000      67.944028     173.036976           0.000000   \n",
      "50%      28.000000      75.020569     180.034436           1.000000   \n",
      "75%      34.000000      81.302956     186.557913           1.000000   \n",
      "max      39.000000     104.650104     207.308672           1.000000   \n",
      "\n",
      "       Training_Intensity  Recovery_Time  Likelihood_of_Injury  \n",
      "count         1000.000000    1000.000000            1000.00000  \n",
      "mean             0.490538       3.466000               0.50000  \n",
      "std              0.286184       1.701099               0.50025  \n",
      "min              0.000031       1.000000               0.00000  \n",
      "25%              0.241042       2.000000               0.00000  \n",
      "50%              0.483912       4.000000               0.50000  \n",
      "75%              0.730404       5.000000               1.00000  \n",
      "max              0.997749       6.000000               1.00000  \n"
     ]
    }
   ],
   "source": [
    "print(injury_data.describe())"
   ]
  },
  {
   "cell_type": "code",
   "execution_count": null,
   "metadata": {},
   "outputs": [],
   "source": []
  }
 ],
 "metadata": {
  "kernelspec": {
   "display_name": "Python 3",
   "language": "python",
   "name": "python3"
  },
  "language_info": {
   "codemirror_mode": {
    "name": "ipython",
    "version": 3
   },
   "file_extension": ".py",
   "mimetype": "text/x-python",
   "name": "python",
   "nbconvert_exporter": "python",
   "pygments_lexer": "ipython3",
   "version": "3.12.2"
  }
 },
 "nbformat": 4,
 "nbformat_minor": 2
}
